{
  "nbformat": 4,
  "nbformat_minor": 0,
  "metadata": {
    "colab": {
      "provenance": []
    },
    "kernelspec": {
      "name": "python3",
      "display_name": "Python 3"
    },
    "language_info": {
      "name": "python"
    }
  },
  "cells": [
    {
      "cell_type": "markdown",
      "source": [
        "# 🧪 Python Implementation (Hybrid Recommendation System):\n"
      ],
      "metadata": {
        "id": "rLF62t0aL6Xs"
      }
    },
    {
      "cell_type": "code",
      "execution_count": 1,
      "metadata": {
        "id": "3jxurR9fLttg"
      },
      "outputs": [],
      "source": [
        "import numpy as np\n",
        "import pandas as pd\n",
        "from sklearn.metrics.pairwise import cosine_similarity\n",
        "from sklearn.feature_extraction.text import TfidfVectorizer\n",
        ""
      ]
    },
    {
      "cell_type": "code",
      "source": [
        "# 1. Simulate user-item ratings (Collaborative Filtering Data)\n",
        "users = ['User1', 'User2', 'User3', 'User4', 'User5']\n",
        "items = ['Item1', 'Item2', 'Item3', 'Item4', 'Item5']\n",
        "ratings = np.random.randint(1, 6, size=(5, 5))  # Random ratings between 1 and 5"
      ],
      "metadata": {
        "id": "6jF1Cfr9L-hz"
      },
      "execution_count": 2,
      "outputs": []
    },
    {
      "cell_type": "code",
      "source": [
        "# 2. Simulate item features (Content-Based Data)\n",
        "descriptions = [\n",
        "    \"Action movie with thrilling sequences\",\n",
        "    \"Romantic comedy with funny moments\",\n",
        "    \"Action-packed superhero movie\",\n",
        "    \"Drama about love and loss\",\n",
        "    \"A romantic comedy with unexpected twists\"\n",
        "]\n",
        "\n",
        "# DataFrames for Collaborative and Content-based data\n",
        "ratings_df = pd.DataFrame(ratings, index=users, columns=items)\n",
        "content_df = pd.DataFrame({'Item': items, 'Description': descriptions})"
      ],
      "metadata": {
        "id": "G6sYx8ZpL-k_"
      },
      "execution_count": 3,
      "outputs": []
    },
    {
      "cell_type": "code",
      "source": [
        "# 3. Collaborative filtering (user-based) - Cosine Similarity between Users\n",
        "user_similarity = cosine_similarity(ratings_df)\n",
        "user_similarity_df = pd.DataFrame(user_similarity, index=users, columns=users)\n"
      ],
      "metadata": {
        "id": "7-X4_eVTL-oK"
      },
      "execution_count": 4,
      "outputs": []
    },
    {
      "cell_type": "code",
      "source": [
        "# 4. Content-based filtering (item-based) - TF-IDF Similarity between Items\n",
        "vectorizer = TfidfVectorizer(stop_words='english')\n",
        "tfidf_matrix = vectorizer.fit_transform(content_df['Description'])\n",
        "item_similarity = cosine_similarity(tfidf_matrix, tfidf_matrix)\n",
        ""
      ],
      "metadata": {
        "id": "_2-pOcYtL-rj"
      },
      "execution_count": 5,
      "outputs": []
    },
    {
      "cell_type": "code",
      "source": [
        "\n",
        "# 5. Hybrid recommendation (combine both methods)\n",
        "# Example: Recommend items for User1 based on both content and collaborative methods\n",
        "user_idx = 0  # User1\n",
        "collab_similarities = user_similarity_df['User1'].values\n",
        "content_similarities = item_similarity[0]  # Content similarity for Item1\n",
        "# Combine the two similarity scores\n",
        "alpha = 0.5  # Weight for collaborative vs content-based filtering\n",
        "hybrid_scores = alpha * collab_similarities + (1 - alpha) * content_similarities\n",
        ""
      ],
      "metadata": {
        "id": "AwWWkehiMIhz"
      },
      "execution_count": 6,
      "outputs": []
    },
    {
      "cell_type": "code",
      "source": [
        "# 6. Recommend top items for User1\n",
        "recommendations = list(enumerate(hybrid_scores))\n",
        "recommendations = sorted(recommendations, key=lambda x: x[1], reverse=True)"
      ],
      "metadata": {
        "id": "K1pJP-qYMInz"
      },
      "execution_count": 7,
      "outputs": []
    },
    {
      "cell_type": "code",
      "source": [
        "# 7. Display recommendations for User1\n",
        "print(\"Hybrid Recommendations for User1:\")\n",
        "for idx, score in recommendations[1:]:\n",
        "    print(f\"{items[idx]}: {score:.2f}\")"
      ],
      "metadata": {
        "colab": {
          "base_uri": "https://localhost:8080/"
        },
        "id": "gSGxjy7dMIuY",
        "outputId": "bb57775d-8361-46f1-808a-bffbf22c1df1"
      },
      "execution_count": 8,
      "outputs": [
        {
          "output_type": "stream",
          "name": "stdout",
          "text": [
            "Hybrid Recommendations for User1:\n",
            "Item3: 0.58\n",
            "Item4: 0.44\n",
            "Item2: 0.41\n",
            "Item5: 0.39\n"
          ]
        }
      ]
    },
    {
      "cell_type": "code",
      "source": [],
      "metadata": {
        "id": "EBD-jU-hMI0T"
      },
      "execution_count": null,
      "outputs": []
    }
  ]
}